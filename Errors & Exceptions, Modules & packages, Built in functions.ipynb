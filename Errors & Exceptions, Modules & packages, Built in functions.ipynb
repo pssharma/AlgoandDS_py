{
 "cells": [
  {
   "cell_type": "markdown",
   "metadata": {},
   "source": [
    "# Exception handling\n",
    "\n",
    "Pyhton has many build-in exceptions to handle errors. Usually errors are handles by try and except statements. \n"
   ]
  },
  {
   "cell_type": "markdown",
   "metadata": {},
   "source": [
    "try:\n",
    "    \n",
    "    operations which may throw errors\n",
    "\n",
    "except Exception1:\n",
    "    \n",
    "    do if this one is thrwon\n",
    "    \n",
    "except Exception2:\n",
    "    \n",
    "    do if this one is thrown\n",
    "    \n",
    "else:\n",
    "    default code\n",
    "    "
   ]
  },
  {
   "cell_type": "code",
   "execution_count": 1,
   "metadata": {
    "collapsed": false
   },
   "outputs": [
    {
     "name": "stdout",
     "output_type": "stream",
     "text": [
      "file doesnt have write permissions\n"
     ]
    }
   ],
   "source": [
    "#Example\n",
    "\n",
    "try:\n",
    "    f = open('test.txt','r')  #we are opening in read mode\n",
    "    f.write('testing if this could write')\n",
    "except:\n",
    "    #This will check for any exception\n",
    "    print('file doesnt have write permissions')\n",
    "    \n",
    "else:\n",
    "    print('content written')\n",
    "    f.close()"
   ]
  },
  {
   "cell_type": "markdown",
   "metadata": {},
   "source": [
    "We can use finally statement to run irrespective of any exception getting called. If there is some code which you need to run irrespective of if statements throw error or not, that should be enclosed under finally.\n"
   ]
  },
  {
   "cell_type": "code",
   "execution_count": 3,
   "metadata": {
    "collapsed": false
   },
   "outputs": [
    {
     "name": "stdout",
     "output_type": "stream",
     "text": [
      "finally executed this\n"
     ]
    }
   ],
   "source": [
    "try:\n",
    "    f = open('test.txt','w')  #we are opening in read mode\n",
    "    f.write('testing if this could write')\n",
    "    \n",
    "finally:\n",
    "    print(\"finally executed this\")"
   ]
  },
  {
   "cell_type": "code",
   "execution_count": 2,
   "metadata": {
    "collapsed": false
   },
   "outputs": [],
   "source": [
    "#in function\n",
    "\n",
    "def inpint():\n",
    "    while True:\n",
    "        try:\n",
    "            val = int(input(\"Please enter an integer: \"))\n",
    "        except:\n",
    "            print('Looks like you did not enter an integer!')\n",
    "            continue\n",
    "        else:\n",
    "            print('Yep thats an integer!')\n",
    "            break\n",
    "        finally:\n",
    "            print(\"Finally, I executed!\")\n",
    "        print(val)"
   ]
  },
  {
   "cell_type": "code",
   "execution_count": 3,
   "metadata": {
    "collapsed": false
   },
   "outputs": [
    {
     "name": "stdout",
     "output_type": "stream",
     "text": [
      "Please enter an integer: 6\n",
      "Yep thats an integer!\n",
      "Finally, I executed!\n"
     ]
    }
   ],
   "source": [
    "inpint()"
   ]
  },
  {
   "cell_type": "markdown",
   "metadata": {
    "collapsed": true
   },
   "source": [
    "# Modules and packages\n",
    "\n",
    "to impoert any module into the working direstory you have to import it. When the module is first loaded the script is executed, and if it is imported again it wont be loaded again. So the variables in modules act as \"singleton\"."
   ]
  },
  {
   "cell_type": "code",
   "execution_count": 4,
   "metadata": {
    "collapsed": true
   },
   "outputs": [],
   "source": [
    "import math"
   ]
  },
  {
   "cell_type": "code",
   "execution_count": 5,
   "metadata": {
    "collapsed": false
   },
   "outputs": [
    {
     "data": {
      "text/plain": [
       "6"
      ]
     },
     "execution_count": 5,
     "metadata": {},
     "output_type": "execute_result"
    }
   ],
   "source": [
    "math.floor(6.8)"
   ]
  },
  {
   "cell_type": "markdown",
   "metadata": {},
   "source": [
    "to look for all the functions in the modules you can just print usinf dir command."
   ]
  },
  {
   "cell_type": "code",
   "execution_count": 6,
   "metadata": {
    "collapsed": false
   },
   "outputs": [
    {
     "name": "stdout",
     "output_type": "stream",
     "text": [
      "['__doc__', '__loader__', '__name__', '__package__', '__spec__', 'acos', 'acosh', 'asin', 'asinh', 'atan', 'atan2', 'atanh', 'ceil', 'copysign', 'cos', 'cosh', 'degrees', 'e', 'erf', 'erfc', 'exp', 'expm1', 'fabs', 'factorial', 'floor', 'fmod', 'frexp', 'fsum', 'gamma', 'gcd', 'hypot', 'inf', 'isclose', 'isfinite', 'isinf', 'isnan', 'ldexp', 'lgamma', 'log', 'log10', 'log1p', 'log2', 'modf', 'nan', 'pi', 'pow', 'radians', 'sin', 'sinh', 'sqrt', 'tan', 'tanh', 'tau', 'trunc']\n"
     ]
    }
   ],
   "source": [
    "print(dir(math))"
   ]
  },
  {
   "cell_type": "code",
   "execution_count": 7,
   "metadata": {
    "collapsed": false
   },
   "outputs": [
    {
     "name": "stdout",
     "output_type": "stream",
     "text": [
      "Help on built-in function floor in module math:\n",
      "\n",
      "floor(...)\n",
      "    floor(x)\n",
      "    \n",
      "    Return the floor of x as an Integral.\n",
      "    This is the largest integer <= x.\n",
      "\n"
     ]
    }
   ],
   "source": [
    "#to know how any function works\n",
    "\n",
    "help(math.floor)"
   ]
  },
  {
   "cell_type": "markdown",
   "metadata": {},
   "source": [
    "# Packages\n",
    "\n",
    "Implementing modules is easy. You just write code and import it with 'import' command. But packages are collection of modules. It is said to be package if it has __init__.py in it. This file can be empty but it indicate sthat it is a package. \n",
    "\n",
    "to import "
   ]
  },
  {
   "cell_type": "markdown",
   "metadata": {},
   "source": [
    "from foo import bar    "
   ]
  },
  {
   "cell_type": "markdown",
   "metadata": {},
   "source": [
    "here foo is package and bar is module."
   ]
  },
  {
   "cell_type": "markdown",
   "metadata": {
    "collapsed": true
   },
   "source": [
    "# Built in functions\n",
    "\n",
    "map() is a function which takes two arguments, a function and an iterable sequence. map(function, sequence).\n",
    "\n",
    "It applies the function to all the elements in sequence and spits out the changed sequence."
   ]
  },
  {
   "cell_type": "code",
   "execution_count": 3,
   "metadata": {
    "collapsed": false
   },
   "outputs": [
    {
     "name": "stdout",
     "output_type": "stream",
     "text": [
      "hello\n",
      "<map object at 0x000002964FAF5080>\n"
     ]
    }
   ],
   "source": [
    "def upperCase(T):\n",
    "    return T.upper()\n",
    "\n",
    "s = input()\n",
    "map(upperCase,s.split())\n"
   ]
  },
  {
   "cell_type": "markdown",
   "metadata": {},
   "source": [
    "In python 3 many iterative functions return iterators themselves. Because it saves memory. in order to print the map o/p just loop on it."
   ]
  },
  {
   "cell_type": "code",
   "execution_count": 5,
   "metadata": {
    "collapsed": false
   },
   "outputs": [
    {
     "name": "stdout",
     "output_type": "stream",
     "text": [
      "H\n",
      "E\n",
      "L\n",
      "L\n",
      "O\n"
     ]
    }
   ],
   "source": [
    "#using lambdas\n",
    "\n",
    "for t in map(lambda x:x.upper(),s):\n",
    "   print(t)\n"
   ]
  },
  {
   "cell_type": "markdown",
   "metadata": {},
   "source": [
    "# reduce()\n",
    "\n",
    "It reduces the whole sequence into single number. reduce(function, sequence). Which translates [function(s1, s2),s3)......,sn], which goes on till it reduces into single number.\n",
    "\n",
    "There is no reduce function in python 3. You can use it through functools."
   ]
  },
  {
   "cell_type": "code",
   "execution_count": 7,
   "metadata": {
    "collapsed": false
   },
   "outputs": [
    {
     "data": {
      "text/plain": [
       "322"
      ]
     },
     "execution_count": 7,
     "metadata": {},
     "output_type": "execute_result"
    }
   ],
   "source": [
    "import functools\n",
    "l = [67,89,110,56]\n",
    "functools.reduce(lambda x,y:x+y,l)   #lambda is the function here and list is the sequence"
   ]
  },
  {
   "cell_type": "markdown",
   "metadata": {},
   "source": [
    "# filter()\n",
    "\n",
    "As the name suggests it would filter out the elements which return true to the function. filter(function(),l)"
   ]
  },
  {
   "cell_type": "code",
   "execution_count": 8,
   "metadata": {
    "collapsed": false
   },
   "outputs": [
    {
     "data": {
      "text/plain": [
       "<filter at 0x2964fafc2b0>"
      ]
     },
     "execution_count": 8,
     "metadata": {},
     "output_type": "execute_result"
    }
   ],
   "source": [
    "def odd_num(n):\n",
    "    if num%2 ==0:\n",
    "        return False\n",
    "    else:\n",
    "        return True\n",
    "    \n",
    "\n",
    "filter(odd_num, range(20)) #returns iterator"
   ]
  },
  {
   "cell_type": "code",
   "execution_count": 9,
   "metadata": {
    "collapsed": false
   },
   "outputs": [
    {
     "name": "stdout",
     "output_type": "stream",
     "text": [
      "0\n",
      "2\n",
      "4\n",
      "6\n",
      "8\n",
      "10\n",
      "12\n",
      "14\n",
      "16\n",
      "18\n"
     ]
    }
   ],
   "source": [
    "for s in filter(lambda x: x%2==0,range(20)):\n",
    "      print(s)"
   ]
  },
  {
   "cell_type": "markdown",
   "metadata": {},
   "source": [
    "# zip()\n",
    "\n",
    "It spits out tuples of elements of sequences. zip(seq1, seq2) will give you [(x1,y1),(x2,y2),(x3,y3)]."
   ]
  },
  {
   "cell_type": "code",
   "execution_count": 10,
   "metadata": {
    "collapsed": false
   },
   "outputs": [
    {
     "data": {
      "text/plain": [
       "<zip at 0x2964fb04948>"
      ]
     },
     "execution_count": 10,
     "metadata": {},
     "output_type": "execute_result"
    }
   ],
   "source": [
    "l1 = [2,3,4,5,6,7]\n",
    "l2 = ['a','b','c','d','e']\n",
    "\n",
    "zip(l1,l2)"
   ]
  },
  {
   "cell_type": "code",
   "execution_count": 12,
   "metadata": {
    "collapsed": false
   },
   "outputs": [
    {
     "name": "stdout",
     "output_type": "stream",
     "text": [
      "('a', 'd')\n",
      "('b', 'c')\n"
     ]
    }
   ],
   "source": [
    "# two dictionaries\n",
    "\n",
    "d1 = {'a':1,'b':2}\n",
    "d2 = {'c':4,'d':3}\n",
    "\n",
    "for d in zip(d1,d2):\n",
    "    print(d)"
   ]
  },
  {
   "cell_type": "code",
   "execution_count": 13,
   "metadata": {
    "collapsed": false
   },
   "outputs": [
    {
     "name": "stdout",
     "output_type": "stream",
     "text": [
      "('a', 3)\n",
      "('b', 4)\n"
     ]
    }
   ],
   "source": [
    "d1 = {'a':1,'b':2}\n",
    "d2 = {'c':4,'d':3}\n",
    "\n",
    "for d in zip(d1,d2.values()):\n",
    "    print(d)"
   ]
  },
  {
   "cell_type": "markdown",
   "metadata": {},
   "source": [
    "#  enumerate()\n",
    "\n",
    "It helps you to keep count of elements in a sequence. it produces a tuple with count number and item in the sequence."
   ]
  },
  {
   "cell_type": "code",
   "execution_count": 14,
   "metadata": {
    "collapsed": false
   },
   "outputs": [
    {
     "name": "stdout",
     "output_type": "stream",
     "text": [
      "0\n",
      "8\n",
      "1\n",
      "6\n",
      "2\n",
      "9\n",
      "3\n",
      "2\n",
      "4\n",
      "4\n",
      "5\n",
      "3\n"
     ]
    }
   ],
   "source": [
    "l = [8,6,9,2,4,3]\n",
    "\n",
    "for n,i in enumerate(l):\n",
    "    print(n)\n",
    "    print(i)"
   ]
  },
  {
   "cell_type": "markdown",
   "metadata": {},
   "source": [
    "# all() and any()\n",
    "\n",
    "all() and any() are used to check for boolean matching in an iterable. any() will return if any of the elements satisfies boolean function. all() will return only if all the elements satisfies boolean function."
   ]
  },
  {
   "cell_type": "code",
   "execution_count": 16,
   "metadata": {
    "collapsed": false
   },
   "outputs": [
    {
     "data": {
      "text/plain": [
       "False"
      ]
     },
     "execution_count": 16,
     "metadata": {},
     "output_type": "execute_result"
    }
   ],
   "source": [
    "l = [True,True,False,True]\n",
    "all(l)"
   ]
  },
  {
   "cell_type": "code",
   "execution_count": 17,
   "metadata": {
    "collapsed": false
   },
   "outputs": [
    {
     "data": {
      "text/plain": [
       "True"
      ]
     },
     "execution_count": 17,
     "metadata": {},
     "output_type": "execute_result"
    }
   ],
   "source": [
    "any(l)"
   ]
  },
  {
   "cell_type": "markdown",
   "metadata": {},
   "source": [
    "# complex\n",
    "\n",
    "returns complex number."
   ]
  },
  {
   "cell_type": "code",
   "execution_count": 18,
   "metadata": {
    "collapsed": false
   },
   "outputs": [
    {
     "data": {
      "text/plain": [
       "(4+3j)"
      ]
     },
     "execution_count": 18,
     "metadata": {},
     "output_type": "execute_result"
    }
   ],
   "source": [
    "complex(4,3)"
   ]
  },
  {
   "cell_type": "markdown",
   "metadata": {},
   "source": [
    "# Decorators\n",
    "\n",
    "In python everything is a object. So the functions are objects too. "
   ]
  },
  {
   "cell_type": "code",
   "execution_count": null,
   "metadata": {
    "collapsed": true
   },
   "outputs": [],
   "source": [
    "def hello(name='User'):\n",
    "    return "
   ]
  }
 ],
 "metadata": {
  "kernelspec": {
   "display_name": "Python 3",
   "language": "python",
   "name": "python3"
  },
  "language_info": {
   "codemirror_mode": {
    "name": "ipython",
    "version": 3
   },
   "file_extension": ".py",
   "mimetype": "text/x-python",
   "name": "python",
   "nbconvert_exporter": "python",
   "pygments_lexer": "ipython3",
   "version": "3.5.1"
  }
 },
 "nbformat": 4,
 "nbformat_minor": 2
}
