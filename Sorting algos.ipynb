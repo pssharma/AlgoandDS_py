{
 "cells": [
  {
   "cell_type": "markdown",
   "metadata": {
    "collapsed": true
   },
   "source": [
    "There are quite a few sorting algorithms, which can be used to sort basic elements. Each and every sorting algorithm has its best scenario, in which it can operate in. \n",
    "\n",
    "only a few times ----> Insertion sort  (It will have fewer swaping to do)\n",
    "when all the items are already sort of sorted ------> Insertion sort\n",
    "Concerned about worst case scenario -----> Heapsort\n",
    "Interested in good average-case behaviour ---> Quicksort\n",
    "Items are drwan from dense cloud -----> Bucket sort\n",
    "Desire to code less ----> Insertion sort\n",
    "stable sort ----> Merge sort\n",
    "\n",
    "At this point the following implementations would be tested against standard n= 15 array, which would be sorted in descending order (inorder to create worst case scenario). \n"
   ]
  },
  {
   "cell_type": "code",
   "execution_count": 23,
   "metadata": {
    "collapsed": false
   },
   "outputs": [],
   "source": [
    "def selectionSort(arr):\n",
    "    i = len(arr)-1\n",
    "    while i < len(arr) :\n",
    "        print(i)\n",
    "        subarr = arr[0:i];\n",
    "        maxele = max(subarr);\n",
    "        maxind = arr.index(maxele);\n",
    "        arr[maxind],arr[i]= arr[i],arr[maxind];\n",
    "        print(arr);\n",
    "        if i==1:\n",
    "            break;\n",
    "        i-=1;\n",
    "    \n",
    "    \n",
    "    "
   ]
  },
  {
   "cell_type": "code",
   "execution_count": 24,
   "metadata": {
    "collapsed": false
   },
   "outputs": [
    {
     "name": "stdout",
     "output_type": "stream",
     "text": [
      "6\n",
      "[7, 8, 9, 11, 3, 2, 15]\n",
      "5\n",
      "[7, 8, 9, 2, 3, 11, 15]\n",
      "4\n",
      "[7, 8, 3, 2, 9, 11, 15]\n",
      "3\n",
      "[7, 2, 3, 8, 9, 11, 15]\n",
      "2\n",
      "[3, 2, 7, 8, 9, 11, 15]\n",
      "1\n",
      "[2, 3, 7, 8, 9, 11, 15]\n"
     ]
    }
   ],
   "source": [
    "arr = [15,8,9,11,3,2,7]\n",
    "selectionSort(arr)"
   ]
  }
 ],
 "metadata": {
  "kernelspec": {
   "display_name": "Python 3",
   "language": "python",
   "name": "python3"
  },
  "language_info": {
   "codemirror_mode": {
    "name": "ipython",
    "version": 3
   },
   "file_extension": ".py",
   "mimetype": "text/x-python",
   "name": "python",
   "nbconvert_exporter": "python",
   "pygments_lexer": "ipython3",
   "version": "3.5.1"
  }
 },
 "nbformat": 4,
 "nbformat_minor": 0
}
